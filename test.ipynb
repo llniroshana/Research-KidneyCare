{
 "cells": [
  {
   "cell_type": "code",
   "execution_count": 12,
   "source": [
    "import numpy as np\r\n",
    "import matplotlib.pyplot as plt\r\n",
    "import pandas as pd\r\n",
    "from sklearn.model_selection import train_test_split\r\n",
    "import seaborn as sns\r\n",
    "from sklearn.metrics import accuracy_score\r\n",
    "from sklearn.tree import DecisionTreeClassifier\r\n",
    "from sklearn import model_selection, naive_bayes, svm\r\n",
    "from sklearn.pipeline import Pipeline\r\n",
    "from sklearn.compose import ColumnTransformer\r\n",
    "import pickle\r\n",
    "from sklearn.preprocessing import LabelEncoder, MinMaxScaler"
   ],
   "outputs": [],
   "metadata": {}
  },
  {
   "cell_type": "code",
   "execution_count": 13,
   "source": [
    "dataset = pd.read_csv('Final_Data_Set.csv')\r\n",
    "\r\n",
    "columns = dataset.drop(['final_status'], axis=1).columns\r\n",
    "\r\n",
    "#Transform non-numeric columns into numerical columns\r\n",
    "#for column in dataset.columns:\r\n",
    "        #if dataset[column].dtype == np.number:\r\n",
    "            #continue\r\n",
    "        #dataset[column] = LabelEncoder().fit_transform(dataset[column])\r\n",
    "\r\n",
    "x = dataset[columns]\r\n",
    "y = dataset['final_status']"
   ],
   "outputs": [],
   "metadata": {}
  },
  {
   "cell_type": "code",
   "execution_count": 14,
   "source": [
    "x.info()"
   ],
   "outputs": [
    {
     "output_type": "stream",
     "name": "stdout",
     "text": [
      "<class 'pandas.core.frame.DataFrame'>\n",
      "RangeIndex: 300 entries, 0 to 299\n",
      "Data columns (total 17 columns):\n",
      " #   Column               Non-Null Count  Dtype \n",
      "---  ------               --------------  ----- \n",
      " 0   gender               300 non-null    object\n",
      " 1   age                  300 non-null    object\n",
      " 2   kidney_period        300 non-null    object\n",
      " 3   blood_pressure       300 non-null    object\n",
      " 4   nausea               300 non-null    object\n",
      " 5   vomit                300 non-null    object\n",
      " 6   loss_of_appetite     300 non-null    object\n",
      " 7   itching              300 non-null    object\n",
      " 8   hiccups              300 non-null    object\n",
      " 9   metallic_taste       300 non-null    object\n",
      " 10  fatigue              300 non-null    object\n",
      " 11  Sleeping_difficulty  300 non-null    object\n",
      " 12  urinate_change       300 non-null    object\n",
      " 13  mental_sharpness     300 non-null    object\n",
      " 14  muscle_twitches      300 non-null    object\n",
      " 15  swelling             300 non-null    object\n",
      " 16  hypertension         300 non-null    object\n",
      "dtypes: object(17)\n",
      "memory usage: 40.0+ KB\n"
     ]
    }
   ],
   "metadata": {}
  },
  {
   "cell_type": "code",
   "execution_count": 15,
   "source": [
    "from sklearn.pipeline import Pipeline\r\n",
    "from sklearn.compose import ColumnTransformer\r\n",
    "from sklearn.preprocessing import OneHotEncoder\r\n",
    "from sklearn.preprocessing import StandardScaler\r\n",
    "   \r\n",
    "\r\n",
    "categorical_features = ['gender', 'age', 'kidney_period', 'blood_pressure', 'nausea','vomit', 'loss_of_appetite', 'itching', 'hiccups','metallic_taste','fatigue', 'Sleeping_difficulty', 'urinate_change', 'mental_sharpness', 'muscle_twitches', 'swelling', 'hypertension']\r\n",
    "categorical_transformer = OneHotEncoder(drop='first', sparse=False)\r\n",
    "\r\n",
    "preprocessor = ColumnTransformer(transformers=[('cat', categorical_transformer, categorical_features)])"
   ],
   "outputs": [],
   "metadata": {}
  },
  {
   "cell_type": "code",
   "execution_count": 16,
   "source": [
    "x_train, x_test, y_train, y_test = train_test_split(\r\n",
    "        x, y, test_size = 0.2, random_state = 0)"
   ],
   "outputs": [],
   "metadata": {}
  },
  {
   "cell_type": "code",
   "execution_count": 17,
   "source": [
    "from sklearn import model_selection, naive_bayes, svm\r\n",
    "modelSVM = Pipeline(steps=[('preprocessor', preprocessor),\r\n",
    "                      ('classifier', svm.SVC(kernel='poly'))])\r\n",
    "\r\n"
   ],
   "outputs": [],
   "metadata": {}
  },
  {
   "cell_type": "code",
   "execution_count": 18,
   "source": [
    "modelSVM.fit(x, y)"
   ],
   "outputs": [
    {
     "output_type": "execute_result",
     "data": {
      "text/plain": [
       "Pipeline(steps=[('preprocessor',\n",
       "                 ColumnTransformer(transformers=[('cat',\n",
       "                                                  OneHotEncoder(drop='first',\n",
       "                                                                sparse=False),\n",
       "                                                  ['gender', 'age',\n",
       "                                                   'kidney_period',\n",
       "                                                   'blood_pressure', 'nausea',\n",
       "                                                   'vomit', 'loss_of_appetite',\n",
       "                                                   'itching', 'hiccups',\n",
       "                                                   'metallic_taste', 'fatigue',\n",
       "                                                   'Sleeping_difficulty',\n",
       "                                                   'urinate_change',\n",
       "                                                   'mental_sharpness',\n",
       "                                                   'muscle_twitches',\n",
       "                                                   'swelling',\n",
       "                                                   'hypertension'])])),\n",
       "                ('classifier', SVC(kernel='poly'))])"
      ]
     },
     "metadata": {},
     "execution_count": 18
    }
   ],
   "metadata": {}
  },
  {
   "cell_type": "code",
   "execution_count": 19,
   "source": [
    "# predict the labels on validation dataset\r\n",
    "predictions_SVM = modelSVM.predict(x_test)\r\n",
    "print(\"Predictions\")\r\n",
    "print(predictions_SVM)\r\n",
    "print(\"---------\")\r\n",
    "print(\"Actuals\")\r\n",
    "print(y_test.values)\r\n",
    "print(\"---------\")\r\n",
    "# Use accuracy_score function to get the accuracy\r\n",
    "print(\"SVM Accuracy Score -> \", accuracy_score(predictions_SVM, y_test) * 100)"
   ],
   "outputs": [
    {
     "output_type": "stream",
     "name": "stdout",
     "text": [
      "Predictions\n",
      "['Critical Patient' 'Not a Critical Patient' 'Critical Patient'\n",
      " 'Not a Critical Patient' 'Not a Critical Patient'\n",
      " 'Not a Critical Patient' 'Critical Patient' 'Critical Patient'\n",
      " 'Critical Patient' 'Critical Patient' 'Critical Patient'\n",
      " 'Critical Patient' 'Not a Critical Patient' 'Not a Critical Patient'\n",
      " 'Critical Patient' 'Not a Critical Patient' 'Not a Critical Patient'\n",
      " 'Critical Patient' 'Critical Patient' 'Critical Patient'\n",
      " 'Not a Critical Patient' 'Not a Critical Patient' 'Critical Patient'\n",
      " 'Not a Critical Patient' 'Critical Patient' 'Critical Patient'\n",
      " 'Critical Patient' 'Critical Patient' 'Not a Critical Patient'\n",
      " 'Critical Patient' 'Critical Patient' 'Not a Critical Patient'\n",
      " 'Critical Patient' 'Critical Patient' 'Critical Patient'\n",
      " 'Not a Critical Patient' 'Critical Patient' 'Not a Critical Patient'\n",
      " 'Critical Patient' 'Not a Critical Patient' 'Not a Critical Patient'\n",
      " 'Critical Patient' 'Not a Critical Patient' 'Critical Patient'\n",
      " 'Critical Patient' 'Not a Critical Patient' 'Not a Critical Patient'\n",
      " 'Not a Critical Patient' 'Critical Patient' 'Critical Patient'\n",
      " 'Critical Patient' 'Critical Patient' 'Not a Critical Patient'\n",
      " 'Not a Critical Patient' 'Critical Patient' 'Not a Critical Patient'\n",
      " 'Critical Patient' 'Critical Patient' 'Critical Patient'\n",
      " 'Critical Patient']\n",
      "---------\n",
      "Actuals\n",
      "['Critical Patient' 'Not a Critical Patient' 'Critical Patient'\n",
      " 'Not a Critical Patient' 'Not a Critical Patient'\n",
      " 'Not a Critical Patient' 'Critical Patient' 'Critical Patient'\n",
      " 'Critical Patient' 'Critical Patient' 'Not a Critical Patient'\n",
      " 'Critical Patient' 'Not a Critical Patient' 'Not a Critical Patient'\n",
      " 'Critical Patient' 'Not a Critical Patient' 'Critical Patient'\n",
      " 'Critical Patient' 'Critical Patient' 'Critical Patient'\n",
      " 'Not a Critical Patient' 'Not a Critical Patient' 'Critical Patient'\n",
      " 'Critical Patient' 'Critical Patient' 'Critical Patient'\n",
      " 'Critical Patient' 'Not a Critical Patient' 'Not a Critical Patient'\n",
      " 'Not a Critical Patient' 'Critical Patient' 'Not a Critical Patient'\n",
      " 'Critical Patient' 'Critical Patient' 'Critical Patient'\n",
      " 'Not a Critical Patient' 'Critical Patient' 'Not a Critical Patient'\n",
      " 'Not a Critical Patient' 'Not a Critical Patient'\n",
      " 'Not a Critical Patient' 'Critical Patient' 'Not a Critical Patient'\n",
      " 'Critical Patient' 'Critical Patient' 'Not a Critical Patient'\n",
      " 'Not a Critical Patient' 'Not a Critical Patient' 'Critical Patient'\n",
      " 'Critical Patient' 'Critical Patient' 'Critical Patient'\n",
      " 'Not a Critical Patient' 'Not a Critical Patient' 'Critical Patient'\n",
      " 'Not a Critical Patient' 'Critical Patient' 'Critical Patient'\n",
      " 'Not a Critical Patient' 'Critical Patient']\n",
      "---------\n",
      "SVM Accuracy Score ->  88.33333333333333\n"
     ]
    }
   ],
   "metadata": {}
  },
  {
   "cell_type": "code",
   "execution_count": 20,
   "source": [
    "pickle.dump(modelSVM, open('ElderlyModel.pkl', 'wb'))\r\n",
    "\r\n"
   ],
   "outputs": [],
   "metadata": {}
  },
  {
   "cell_type": "code",
   "execution_count": 21,
   "source": [
    "y_predict = modelSVM.predict(x_test)\r\n",
    "\r\n",
    "from sklearn.metrics import classification_report\r\n",
    "classification_report(y_test,y_predict)\r\n",
    "\r\n",
    "print(classification_report(y_test,y_predict))"
   ],
   "outputs": [
    {
     "output_type": "stream",
     "name": "stdout",
     "text": [
      "                        precision    recall  f1-score   support\n",
      "\n",
      "      Critical Patient       0.86      0.94      0.90        33\n",
      "Not a Critical Patient       0.92      0.81      0.86        27\n",
      "\n",
      "              accuracy                           0.88        60\n",
      "             macro avg       0.89      0.88      0.88        60\n",
      "          weighted avg       0.89      0.88      0.88        60\n",
      "\n"
     ]
    }
   ],
   "metadata": {}
  }
 ],
 "metadata": {
  "interpreter": {
   "hash": "342b04218c5ed0785ba8a162db1e7b4bce78d4d58ce3d82e0d192e39c8606430"
  },
  "kernelspec": {
   "name": "python3",
   "display_name": "Python 3.9.6 64-bit"
  },
  "language_info": {
   "codemirror_mode": {
    "name": "ipython",
    "version": 3
   },
   "file_extension": ".py",
   "mimetype": "text/x-python",
   "name": "python",
   "nbconvert_exporter": "python",
   "pygments_lexer": "ipython3",
   "version": "3.9.6"
  }
 },
 "nbformat": 4,
 "nbformat_minor": 2
}